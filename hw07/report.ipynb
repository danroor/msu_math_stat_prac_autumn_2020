{
 "cells": [
  {
   "cell_type": "markdown",
   "metadata": {},
   "source": [
    "Домашнее задание 7\n",
    "\n",
    "Роор Даниил 316"
   ]
  },
  {
   "cell_type": "markdown",
   "metadata": {},
   "source": [
    "1. Изучить теоретические выражения для рассмотренных на занятиях критериев (Стьюдента и ранговые), а также их свойства."
   ]
  },
  {
   "cell_type": "markdown",
   "metadata": {},
   "source": [
    "$ \\DeclareMathOperator{\\E}{\\mathbb{E}} \\DeclareMathOperator{\\D}{\\mathbb{D}}  $\n",
    "\n",
    "\n",
    "Пусть имеется выборка $ X_1, X_2, ... X_n $ и $  \\overline X = \\frac {1}{n} \\sum _ {i = 1} ^{n} X_i  $\n",
    "\n",
    "#### Одновыборочный t-критерий применяется для проверки нулевой гипотезы $ H_{0}:\\E(X)=m $ ($m$ задано и известно).\n",
    "\n",
    "При выполнении $ H_{0}$ верно:  $ \\E(\\overline X)=m $. С учётом предполагаемой независимости наблюдений $ \\D({\\overline {X}})=\\frac{\\sigma ^{2}}{n} $. Используя несмещённую оценку дисперсии $ s_{X}^{2}= \\frac{1}{n-1} \\sum _{i=1}^{n}(X_{i}-{\\overline {X}})^{2} $ получаем следующую t-статистику:\n",
    "\n",
    " $$ t={\\frac {{\\overline {X}}-m}{s_{X}/{\\sqrt {n}}}}. $$\n",
    " \n",
    " \n",
    "При выполнении $ H_{0}$ эта статистика имеет распределение $ t(n-1)$. При превышении значения статистики по абсолютной величине критического значения данного распределения (при заданном уровне значимости) нулевая гипотеза отвергается."
   ]
  },
  {
   "cell_type": "markdown",
   "metadata": {},
   "source": [
    "#### Двухвыборочный t-критерий для независимых выборок"
   ]
  },
  {
   "cell_type": "markdown",
   "metadata": {},
   "source": [
    "Пусть имеются две независимые выборки объёмами $ n_{1},n_{2}$ нормально распределённых случайных величин $ X_{1},X_{2}$. Необходимо проверить по выборочным данным нулевую гипотезу равенства математических ожиданий этих случайных величин $ H_{0}:M_{1}=M_{2}$.\n",
    "\n",
    "Рассмотрим разность выборочных средних $ \\Delta ={\\overline {X}}_{1}-{\\overline {X}}_{2}$. Очевидно, если нулевая гипотеза выполнена, $ \\E(\\Delta )=M_{1}-M_{2}=0$. Исходя из независимости выборок дисперсия этой разности равна: $ \\D(\\Delta )={\\frac {\\sigma _{1}^{2}}{n_{1}}}+{\\frac {\\sigma _{2}^{2}}{n_{2}}}$. Тогда, используя несмещённую оценку дисперсии $ s^{2}={\\frac {\\sum _{t=1}^{n}(X_{t}-{\\overline {X}})^{2}}{n-1}}$, получаем несмещённую оценку дисперсии разности выборочных средних: $ s_{\\Delta }^{2}={\\frac {s_{1}^{2}}{n_{1}}}+{\\frac {s_{2}^{2}}{n_{2}}}$. Следовательно, t-статистика для проверки нулевой гипотезы равна\n",
    "\n",
    "$ t={\\frac {{\\overline {X}}_{1}-{\\overline {X}}_{2}}{\\sqrt {{\\frac {s_{1}^{2}}{n_{1}}}+{\\frac {s_{2}^{2}}{n_{2}}}}}}$.\n",
    "\n",
    "Эта статистика при справедливости нулевой гипотезы имеет распределение $ t(df)$, где $ df={\\frac {(s_{1}^{2}/n_{1}+s_{2}^{2}/n_{2})^{2}}{(s_{1}^{2}/n_{1})^{2}/(n_{1}-1)+(s_{2}^{2}/n_{2})^{2}/(n_{2}-1)}}$."
   ]
  },
  {
   "cell_type": "markdown",
   "metadata": {},
   "source": [
    "#### Двухвыборочный t-критерий для зависимых выборок"
   ]
  },
  {
   "cell_type": "markdown",
   "metadata": {},
   "source": [
    "Для вычисления эмпирического значения t-критерия в ситуации проверки гипотезы о различиях между двумя зависимыми выборками (например, двумя пробами одного и того же теста с временным интервалом) применяется следующая формула:\n",
    "\n",
    "$ t={\\frac {M_{d}}{s_{d}/{\\sqrt {n}}}}$,\n",
    "где $M_{d}$ — средняя разность значений, $ s_{d}$ — стандартное отклонение разностей, а n — количество наблюдений.\n",
    "\n",
    "Эта статистика имеет распределение $ t(n-1)$."
   ]
  },
  {
   "cell_type": "markdown",
   "metadata": {},
   "source": [
    "#### Одновыборочный критерий Уилкоксона\n",
    "\n",
    "Он служит для проверки нулевой гипотезы о том, что анализируемая выборка происходит из симметрично распределенной генеральной совокупности с центром в точке $µ_0$. Алгоритм метода заключается в следующем:\n",
    "1. $µ_0$ отнимают от каждого выборочного значения;\n",
    "2. получившиеся величины ранжируют по возрастанию, игнорируя знак;\n",
    "3. ранговые номера со знаком + суммируют, получая величину V;\n",
    "4. критерий V сравнивают с критическим значением для заданного уровня значимости и числа степеней свободы \n",
    "\n",
    "Альтернативный подход на четвертом шаге заключается в нахождении вероятности случайным образом получить значение V, равное или превышающее наблюдаемое значение, при условии истинности нулевой гипотезы."
   ]
  },
  {
   "cell_type": "markdown",
   "metadata": {},
   "source": [
    "#### Двувыборочный критерий Уилкоксона для независимых выборок\n",
    "\n",
    "Проверяемая с его помощью нулевая гипотеза состоит в том, что центры распределений, из которых происходят сравниваемые выборки, смещены относительно друг друга на величину µ (например, µ = 0). Алгоритм метода состоит в следующем:\n",
    "\n",
    "1. Все имеющиеся значения ранжируют, игнорируя их знак;\n",
    "\n",
    "2. Ранги значений, принадлежащих к первой группе, суммируют, получая величину W;\n",
    "\n",
    "3. Полученное W сравнивают со значением, которое можно было бы ожидать при верной нулевой гипотезе и имеющемся числе степеней свободы; альтернативный подход - находят вероятность случайным образом получить значение W, равное или превышающее наблюдаемое значение (при условии истинности нулевой гипотезы)."
   ]
  },
  {
   "cell_type": "markdown",
   "metadata": {},
   "source": [
    "#### Двувыборочный критерий Уилкоксона для зависимых выборок\n",
    "\n",
    "Находят разницу между всеми имеющимися парными выборочными наблюдениями с целью проверить нулевую гипотезу о том, что медиана полученных разностей равна µ. (Важно упомянуть широко распространенное ошибочное представление о том, что критерий Уилкоксона применяется для сравнения выборочных медиан)."
   ]
  },
  {
   "cell_type": "markdown",
   "metadata": {},
   "source": [
    "#### Тест Фишера (F-тест) однородности дисперсий\n",
    "\n",
    "Пусть $X1, ..., Xn$ и $Y1, ..., Ym$ -  независимые одинаково распределенные выборки из нормальных распределений. Матожидания могут не совпадать, проверяется гипотеза о равенстве дисперсий. Пусть\n",
    "\n",
    "$ {\\overline {X}}={\\frac {1}{n}}\\sum _{i=1}^{n}X_{i}{\\text{ и }}{\\overline {Y}}={\\frac {1}{m}}\\sum _{i=1}^{m}Y_{i}$  - выборочные средние, а\n",
    "\n",
    "$ S_{X}^{2}={\\frac {1}{n-1}}\\sum _{i=1}^{n}\\left(X_{i}-{\\overline {X}}\\right)^{2}{\\text{  и  }}S_{Y}^{2}={\\frac {1}{m-1}}\\sum _{i=1}^{m}\\left(Y_{i}-{\\overline {Y}}\\right)^{2}$ - выборочные дисперсии. Тогда статистика\n",
    "\n",
    "$ F={\\frac {S_{X}^{2}}{S_{Y}^{2}}}$\n",
    "имеет F-распределение со степенями свободы n−1 и m−1 в случае справедливости нулевой гипотезы. В противном случае она имеет F-распределение с параметрами, пропорциональными отношению истинных дисперсий. Нулевая гипотеза отвергается, если F слишком мало или велико для выбранного уровня значимости."
   ]
  },
  {
   "cell_type": "markdown",
   "metadata": {},
   "source": [
    "#### Тест Левене для проверки равенства дисперсий в двух и более выборках"
   ]
  },
  {
   "cell_type": "markdown",
   "metadata": {},
   "source": [
    "Пусть $Y_{ij}$ - j-тое наблюдение i-той выборки, $\\overline Y_{i \\cdot}$ - ее выборочное среднее, \n",
    "$ Z_{ij}=|Y_{ij}-{\\bar {Y}}_{i\\cdot }|$. Статистика:\n",
    "\n",
    "$ W={\\frac {(N-k)}{(k-1)}}\\cdot {\\frac {\\sum _{i=1}^{k}N_{i}(Z_{i\\cdot }-Z_{\\cdot \\cdot })^{2}}{\\sum _{i=1}^{k}\\sum _{j=1}^{N_{i}}(Z_{ij}-Z_{i\\cdot })^{2}}}$, где \n",
    "\n",
    "k - число групп,\n",
    "\n",
    "$ N_{i}$ - число элементов i-той группы,\n",
    "\n",
    "N - суммарное количество наблюдений.\n",
    "\n",
    "$ Z_{i\\cdot }={\\frac {1}{N_{i}}}\\sum _{j=1}^{N_{i}}Z_{ij}$,\n",
    "\n",
    "$ Z_{\\cdot \\cdot }={\\frac {1}{N}}\\sum _{i=1}^{k}\\sum _{j=1}^{N_{i}}Z_{ij}$.\n",
    "\n",
    "В случае истинности гипотезы W имеет F-распределение со степенями свободы k-1 и N-k."
   ]
  },
  {
   "cell_type": "markdown",
   "metadata": {},
   "source": [
    "#### Тест Бартлетта для проверки равенства дисперсий в двух и более выборках"
   ]
  },
  {
   "cell_type": "markdown",
   "metadata": {},
   "source": [
    "Имеется k выборок $ x_{1}^{n_{1}},...,x_{k}^{n_{k}}$ объёмом $ n_{i}$ каждая. $ X_{ji}$ — j-е значение (измерение) в i-й серии. Дисперсии выборок и выборочные оценки дисперсий обозначим через $ \\sigma _{i}^{2}$ и $ s_{i}^{2}$ соответственно.\n",
    "\n",
    "Пусть выборки $ x_{1}^{n_{1}},...,x_{k}^{n_{k}}$ являются нормальными. Критерий Бартлетта очень чувствителен к отклонениям от нормальности распределения исследуемых случайных величин.\n",
    "\n",
    "Нулевая гипотеза\n",
    "Критерий Бартлетта проверяет гипотезу $ H_{0}$ о том, что дисперсии всех k выборок одинаковы.\n",
    "\n",
    "$ H_{0}:\\sigma _{1}^{2}=\\sigma _{2}^{2}=...=\\sigma _{k}^{2}$\n",
    "\n",
    "Альтернативная гипотеза $ H_{1}$: существует, по крайней мере, две выборки $ i$ и $ j$ ($i \\neq j$) с несовпадающими дисперсиями.\n",
    "\n",
    "$ H_{1}:\\sigma _{i}^{2}\\neq \\sigma _{j}^{2}$ (для некоторых $ i\\neq j$).\n",
    "\n",
    "Статистика критерия Бартлетта вычисляется в соответствии с соотношением:\n",
    "\n",
    "$ T={\\frac {M}{c}}$.\n",
    "Здесь\n",
    "\n",
    "$ M=(N-k)\\cdot \\ln(s_{p}^{2})-\\sum _{i=1}^{k}(n_{i}-1)\\cdot \\ln(s_{i}^{2})$,\n",
    "$ c=1+{\\frac {1}{3\\cdot (k-1)}}\\cdot \\left(\\sum _{i=1}^{k}\\left({\\frac {1}{n_{i}-1}}\\right)-{\\frac {1}{(N-k)}}\\right)$,\n",
    "\n",
    "где $ N=\\sum _{i=1}^{k}n_{i}$ и $ s_{p}^{2}={\\frac {1}{N-k}}\\sum _{i=1}^{k}(n_{i}-1)\\cdot s_{i}^{2}$ — суммарная оценка дисперсий,\n",
    "\n",
    "$ s_{i}^{2}={\\frac {1}{n_{i}-1}}\\sum \\limits _{j=1}^{n_{i}}\\left(X_{ji}-{\\bar {X_{i}}}\\right)^{2}$,\n",
    "\n",
    "$ {\\bar {X_{i}}}={\\frac {1}{n_{i}}}\\sum _{j=1}^{n_{i}}\\mathrm {X} _{ji}$.\n",
    "\n",
    "При $ n_{i}>3 $ и справедливости нулевой гипотезы статистика критерия Бартлетта имеет распределение $ \\chi _{k-1}^{2}$ хи-квадрат с $k-1$ степенями свободы.\n",
    "\n",
    "Если $ T>\\chi _{k-1,\\alpha }^{2}$, то на уровне значимости $\\alpha$  нулевая гипотеза отвергается в пользу альтернативы. Здесь $ \\chi _{k-1,\\alpha }^{2}$ — квантиль распределения хи-квадрат с $k-1$ степенями свободы."
   ]
  },
  {
   "cell_type": "markdown",
   "metadata": {},
   "source": [
    "#### Тест Флигнера-Килина\n",
    "\n",
    "Используются ранги абсолютных значений наблюдений выборки, централизованных по выборочному среднему или по медиане, с весами $a(i) = qnorm(\\frac{1}{2}(1 + \\frac{i}{n+1}))$."
   ]
  },
  {
   "cell_type": "markdown",
   "metadata": {},
   "source": [
    "#### Тест Фишера"
   ]
  },
  {
   "cell_type": "markdown",
   "metadata": {},
   "source": [
    "2. Рассмотреть односторонние варианты t-теста, когда проверяемая нулевая гипотеза заключается в том, что одно из сравниваемых средних значений больше (или меньше) другого: использовать t.test() в сочетании с аргументом alternative (может принимать одно из трех значений – «two.sided» (по умолчанию), «greater» или «less»."
   ]
  },
  {
   "cell_type": "code",
   "execution_count": 20,
   "metadata": {},
   "outputs": [],
   "source": [
    "sample1 = rnorm(100)\n",
    "sample2 = rnorm(100, sd = sqrt(10))\n",
    "sample3 = rnorm(100, mean = 4, sd = sqrt(1.7))"
   ]
  },
  {
   "cell_type": "code",
   "execution_count": 21,
   "metadata": {},
   "outputs": [
    {
     "data": {
      "text/plain": [
       "\n",
       "\tWelch Two Sample t-test\n",
       "\n",
       "data:  sample1 and sample2\n",
       "t = 0.54513, df = 113.49, p-value = 0.5867\n",
       "alternative hypothesis: true difference in means is not equal to 0\n",
       "95 percent confidence interval:\n",
       " -0.5429286  0.9551528\n",
       "sample estimates:\n",
       "  mean of x   mean of y \n",
       " 0.08207395 -0.12403817 \n"
      ]
     },
     "metadata": {},
     "output_type": "display_data"
    }
   ],
   "source": [
    "t.test(sample1, sample2, alternative = 'two.sided')"
   ]
  },
  {
   "cell_type": "markdown",
   "metadata": {},
   "source": [
    "Принимаем гипотезу о равенстве средних (и оказываемся правы)"
   ]
  },
  {
   "cell_type": "code",
   "execution_count": 22,
   "metadata": {},
   "outputs": [
    {
     "data": {
      "text/plain": [
       "\n",
       "\tWelch Two Sample t-test\n",
       "\n",
       "data:  sample1 and sample2\n",
       "t = 0.54513, df = 113.49, p-value = 0.2934\n",
       "alternative hypothesis: true difference in means is greater than 0\n",
       "95 percent confidence interval:\n",
       " -0.4209183        Inf\n",
       "sample estimates:\n",
       "  mean of x   mean of y \n",
       " 0.08207395 -0.12403817 \n"
      ]
     },
     "metadata": {},
     "output_type": "display_data"
    }
   ],
   "source": [
    "t.test(sample1, sample2, alternative = 'greater')"
   ]
  },
  {
   "cell_type": "markdown",
   "metadata": {},
   "source": [
    "Принимаем гипотезу о равенстве средних (и оказываемся правы)"
   ]
  },
  {
   "cell_type": "code",
   "execution_count": 23,
   "metadata": {},
   "outputs": [
    {
     "data": {
      "text/plain": [
       "\n",
       "\tWelch Two Sample t-test\n",
       "\n",
       "data:  sample1 and sample2\n",
       "t = 0.54513, df = 113.49, p-value = 0.7066\n",
       "alternative hypothesis: true difference in means is less than 0\n",
       "95 percent confidence interval:\n",
       "      -Inf 0.8331425\n",
       "sample estimates:\n",
       "  mean of x   mean of y \n",
       " 0.08207395 -0.12403817 \n"
      ]
     },
     "metadata": {},
     "output_type": "display_data"
    }
   ],
   "source": [
    "t.test(sample1, sample2, alternative = 'less')"
   ]
  },
  {
   "cell_type": "markdown",
   "metadata": {},
   "source": [
    "Принимаем гипотезу о равенстве средних (и оказываемся правы)"
   ]
  },
  {
   "cell_type": "code",
   "execution_count": 24,
   "metadata": {},
   "outputs": [
    {
     "data": {
      "text/plain": [
       "\n",
       "\tWelch Two Sample t-test\n",
       "\n",
       "data:  sample1 and sample3\n",
       "t = -24.193, df = 185, p-value < 2.2e-16\n",
       "alternative hypothesis: true difference in means is not equal to 0\n",
       "95 percent confidence interval:\n",
       " -4.272185 -3.627945\n",
       "sample estimates:\n",
       " mean of x  mean of y \n",
       "0.08207395 4.03213894 \n"
      ]
     },
     "metadata": {},
     "output_type": "display_data"
    }
   ],
   "source": [
    "t.test(sample1, sample3, alternative = 'two.sided')"
   ]
  },
  {
   "cell_type": "markdown",
   "metadata": {},
   "source": [
    "Отвергаем гипотезу о равенстве средних (и оказываемся правы)"
   ]
  },
  {
   "cell_type": "code",
   "execution_count": 26,
   "metadata": {},
   "outputs": [
    {
     "data": {
      "text/plain": [
       "\n",
       "\tWelch Two Sample t-test\n",
       "\n",
       "data:  sample1 and sample3\n",
       "t = -24.193, df = 185, p-value = 1\n",
       "alternative hypothesis: true difference in means is greater than 0\n",
       "95 percent confidence interval:\n",
       " -4.21998      Inf\n",
       "sample estimates:\n",
       " mean of x  mean of y \n",
       "0.08207395 4.03213894 \n"
      ]
     },
     "metadata": {},
     "output_type": "display_data"
    }
   ],
   "source": [
    "t.test(sample1, sample3, alternative = 'greater')"
   ]
  },
  {
   "cell_type": "markdown",
   "metadata": {},
   "source": [
    "Принимаем гипотезу о равенстве средних (ошибаемся)"
   ]
  },
  {
   "cell_type": "code",
   "execution_count": 27,
   "metadata": {},
   "outputs": [
    {
     "data": {
      "text/plain": [
       "\n",
       "\tWelch Two Sample t-test\n",
       "\n",
       "data:  sample1 and sample3\n",
       "t = -24.193, df = 185, p-value < 2.2e-16\n",
       "alternative hypothesis: true difference in means is less than 0\n",
       "95 percent confidence interval:\n",
       "     -Inf -3.68015\n",
       "sample estimates:\n",
       " mean of x  mean of y \n",
       "0.08207395 4.03213894 \n"
      ]
     },
     "metadata": {},
     "output_type": "display_data"
    }
   ],
   "source": [
    "t.test(sample1, sample3, alternative = 'less')"
   ]
  },
  {
   "cell_type": "code",
   "execution_count": 29,
   "metadata": {},
   "outputs": [
    {
     "data": {
      "text/plain": [
       "\n",
       "\tWelch Two Sample t-test\n",
       "\n",
       "data:  sample3 and sample1\n",
       "t = 24.193, df = 185, p-value < 2.2e-16\n",
       "alternative hypothesis: true difference in means is greater than 0\n",
       "95 percent confidence interval:\n",
       " 3.68015     Inf\n",
       "sample estimates:\n",
       " mean of x  mean of y \n",
       "4.03213894 0.08207395 \n"
      ]
     },
     "metadata": {},
     "output_type": "display_data"
    }
   ],
   "source": [
    "t.test(sample3, sample1, alternative = 'greater')"
   ]
  },
  {
   "cell_type": "markdown",
   "metadata": {},
   "source": [
    "Отвергаем гипотезу о равенстве средних (и оказываемся правы)"
   ]
  },
  {
   "cell_type": "code",
   "execution_count": 28,
   "metadata": {},
   "outputs": [
    {
     "data": {
      "text/plain": [
       "\n",
       "\tWelch Two Sample t-test\n",
       "\n",
       "data:  sample3 and sample1\n",
       "t = 24.193, df = 185, p-value = 1\n",
       "alternative hypothesis: true difference in means is less than 0\n",
       "95 percent confidence interval:\n",
       "    -Inf 4.21998\n",
       "sample estimates:\n",
       " mean of x  mean of y \n",
       "4.03213894 0.08207395 \n"
      ]
     },
     "metadata": {},
     "output_type": "display_data"
    }
   ],
   "source": [
    "t.test(sample3, sample1, alternative = 'less')"
   ]
  },
  {
   "cell_type": "markdown",
   "metadata": {},
   "source": [
    "Принимаем гипотезу о равенстве средних (ошибаемся)"
   ]
  },
  {
   "cell_type": "code",
   "execution_count": 30,
   "metadata": {},
   "outputs": [
    {
     "data": {
      "text/plain": [
       "\n",
       "\tWelch Two Sample t-test\n",
       "\n",
       "data:  sample2 and sample3\n",
       "t = -10.73, df = 123.68, p-value < 2.2e-16\n",
       "alternative hypothesis: true difference in means is not equal to 0\n",
       "95 percent confidence interval:\n",
       " -4.922831 -3.389523\n",
       "sample estimates:\n",
       " mean of x  mean of y \n",
       "-0.1240382  4.0321389 \n"
      ]
     },
     "metadata": {},
     "output_type": "display_data"
    }
   ],
   "source": [
    "t.test(sample2, sample3, alternative = 'two.sided')"
   ]
  },
  {
   "cell_type": "markdown",
   "metadata": {},
   "source": [
    "Отвергаем гипотезу о равенстве средних (и оказываемся правы)"
   ]
  },
  {
   "cell_type": "code",
   "execution_count": 31,
   "metadata": {},
   "outputs": [
    {
     "data": {
      "text/plain": [
       "\n",
       "\tWelch Two Sample t-test\n",
       "\n",
       "data:  sample2 and sample3\n",
       "t = -10.73, df = 123.68, p-value = 1\n",
       "alternative hypothesis: true difference in means is greater than 0\n",
       "95 percent confidence interval:\n",
       " -4.798086       Inf\n",
       "sample estimates:\n",
       " mean of x  mean of y \n",
       "-0.1240382  4.0321389 \n"
      ]
     },
     "metadata": {},
     "output_type": "display_data"
    }
   ],
   "source": [
    "t.test(sample2, sample3, alternative = 'greater')"
   ]
  },
  {
   "cell_type": "markdown",
   "metadata": {},
   "source": [
    "Принимаем гипотезу о равенстве средних (ошибаемся)"
   ]
  },
  {
   "cell_type": "code",
   "execution_count": 32,
   "metadata": {},
   "outputs": [
    {
     "data": {
      "text/plain": [
       "\n",
       "\tWelch Two Sample t-test\n",
       "\n",
       "data:  sample2 and sample3\n",
       "t = -10.73, df = 123.68, p-value < 2.2e-16\n",
       "alternative hypothesis: true difference in means is less than 0\n",
       "95 percent confidence interval:\n",
       "      -Inf -3.514268\n",
       "sample estimates:\n",
       " mean of x  mean of y \n",
       "-0.1240382  4.0321389 \n"
      ]
     },
     "metadata": {},
     "output_type": "display_data"
    }
   ],
   "source": [
    "t.test(sample2, sample3, alternative = 'less')"
   ]
  },
  {
   "cell_type": "markdown",
   "metadata": {},
   "source": [
    "Отвергаем гипотезу о равенстве средних (и оказываемся правы)"
   ]
  },
  {
   "cell_type": "code",
   "execution_count": 33,
   "metadata": {},
   "outputs": [
    {
     "data": {
      "text/plain": [
       "\n",
       "\tWelch Two Sample t-test\n",
       "\n",
       "data:  sample3 and sample2\n",
       "t = 10.73, df = 123.68, p-value < 2.2e-16\n",
       "alternative hypothesis: true difference in means is greater than 0\n",
       "95 percent confidence interval:\n",
       " 3.514268      Inf\n",
       "sample estimates:\n",
       " mean of x  mean of y \n",
       " 4.0321389 -0.1240382 \n"
      ]
     },
     "metadata": {},
     "output_type": "display_data"
    }
   ],
   "source": [
    "t.test(sample3, sample2, alternative = 'greater')"
   ]
  },
  {
   "cell_type": "markdown",
   "metadata": {},
   "source": [
    "Отвергаем гипотезу о равенстве средних (и оказываемся правы)"
   ]
  },
  {
   "cell_type": "code",
   "execution_count": 34,
   "metadata": {},
   "outputs": [
    {
     "data": {
      "text/plain": [
       "\n",
       "\tWelch Two Sample t-test\n",
       "\n",
       "data:  sample3 and sample2\n",
       "t = 10.73, df = 123.68, p-value = 1\n",
       "alternative hypothesis: true difference in means is less than 0\n",
       "95 percent confidence interval:\n",
       "     -Inf 4.798086\n",
       "sample estimates:\n",
       " mean of x  mean of y \n",
       " 4.0321389 -0.1240382 \n"
      ]
     },
     "metadata": {},
     "output_type": "display_data"
    }
   ],
   "source": [
    "t.test(sample3, sample2, alternative = 'less')"
   ]
  },
  {
   "cell_type": "markdown",
   "metadata": {},
   "source": [
    "Принимаем гипотезу о равенстве средних (ошибаемся)"
   ]
  },
  {
   "cell_type": "markdown",
   "metadata": {},
   "source": [
    "Вывод - двусторонняя альтернатива хорошо работает всегда. Альтернатива 'greater' ('less') дает ошибку второго рода, если она неверна и на самом деле среднее первой выборки меньше (больше)"
   ]
  },
  {
   "cell_type": "markdown",
   "metadata": {},
   "source": [
    "3. Найти выражения для критериев Фишера, Левене, Бартлетта, Флигнера-Килина и изучить проверку гипотез об однородности дисперсий в R ( на примерах)."
   ]
  },
  {
   "cell_type": "code",
   "execution_count": 78,
   "metadata": {},
   "outputs": [],
   "source": [
    "norm1 = rnorm(100)\n",
    "norm2 = rnorm(100, mean = 2)\n",
    "norm3 = rnorm(100, sd = 2)\n",
    "norm4 = rnorm(100, mean = -3, sd = 5)"
   ]
  },
  {
   "cell_type": "code",
   "execution_count": 79,
   "metadata": {},
   "outputs": [
    {
     "data": {
      "text/plain": [
       "\n",
       "\tF test to compare two variances\n",
       "\n",
       "data:  norm1 and norm2\n",
       "F = 1.133, num df = 99, denom df = 99, p-value = 0.5357\n",
       "alternative hypothesis: true ratio of variances is not equal to 1\n",
       "95 percent confidence interval:\n",
       " 0.7623018 1.6838415\n",
       "sample estimates:\n",
       "ratio of variances \n",
       "          1.132959 \n"
      ]
     },
     "metadata": {},
     "output_type": "display_data"
    }
   ],
   "source": [
    "var.test(norm1, norm2)"
   ]
  },
  {
   "cell_type": "code",
   "execution_count": 80,
   "metadata": {},
   "outputs": [
    {
     "data": {
      "text/plain": [
       "\n",
       "\tF test to compare two variances\n",
       "\n",
       "data:  norm1 and norm3\n",
       "F = 0.24462, num df = 99, denom df = 99, p-value = 1.724e-11\n",
       "alternative hypothesis: true ratio of variances is not equal to 1\n",
       "95 percent confidence interval:\n",
       " 0.1645909 0.3635634\n",
       "sample estimates:\n",
       "ratio of variances \n",
       "         0.2446206 \n"
      ]
     },
     "metadata": {},
     "output_type": "display_data"
    }
   ],
   "source": [
    "var.test(norm1, norm3)"
   ]
  },
  {
   "cell_type": "code",
   "execution_count": 81,
   "metadata": {},
   "outputs": [
    {
     "data": {
      "text/plain": [
       "\n",
       "\tF test to compare two variances\n",
       "\n",
       "data:  norm1 and norm4\n",
       "F = 0.03781, num df = 99, denom df = 99, p-value < 2.2e-16\n",
       "alternative hypothesis: true ratio of variances is not equal to 1\n",
       "95 percent confidence interval:\n",
       " 0.02544022 0.05619466\n",
       "sample estimates:\n",
       "ratio of variances \n",
       "        0.03781011 \n"
      ]
     },
     "metadata": {},
     "output_type": "display_data"
    }
   ],
   "source": [
    "var.test(norm1, norm4)"
   ]
  },
  {
   "cell_type": "code",
   "execution_count": 82,
   "metadata": {},
   "outputs": [
    {
     "data": {
      "text/plain": [
       "\n",
       "\tF test to compare two variances\n",
       "\n",
       "data:  norm2 and norm3\n",
       "F = 0.21591, num df = 99, denom df = 99, p-value = 3.397e-13\n",
       "alternative hypothesis: true ratio of variances is not equal to 1\n",
       "95 percent confidence interval:\n",
       " 0.1452753 0.3208973\n",
       "sample estimates:\n",
       "ratio of variances \n",
       "         0.2159131 \n"
      ]
     },
     "metadata": {},
     "output_type": "display_data"
    }
   ],
   "source": [
    "var.test(norm2, norm3)"
   ]
  },
  {
   "cell_type": "code",
   "execution_count": 83,
   "metadata": {},
   "outputs": [
    {
     "data": {
      "text/plain": [
       "\n",
       "\tF test to compare two variances\n",
       "\n",
       "data:  norm2 and norm4\n",
       "F = 0.033373, num df = 99, denom df = 99, p-value < 2.2e-16\n",
       "alternative hypothesis: true ratio of variances is not equal to 1\n",
       "95 percent confidence interval:\n",
       " 0.02245467 0.04959992\n",
       "sample estimates:\n",
       "ratio of variances \n",
       "        0.03337289 \n"
      ]
     },
     "metadata": {},
     "output_type": "display_data"
    }
   ],
   "source": [
    "var.test(norm2, norm4)"
   ]
  },
  {
   "cell_type": "code",
   "execution_count": 84,
   "metadata": {},
   "outputs": [
    {
     "data": {
      "text/plain": [
       "\n",
       "\tF test to compare two variances\n",
       "\n",
       "data:  norm3 and norm4\n",
       "F = 0.15457, num df = 99, denom df = 99, p-value < 2.2e-16\n",
       "alternative hypothesis: true ratio of variances is not equal to 1\n",
       "95 percent confidence interval:\n",
       " 0.1039987 0.2297217\n",
       "sample estimates:\n",
       "ratio of variances \n",
       "         0.1545663 \n"
      ]
     },
     "metadata": {},
     "output_type": "display_data"
    }
   ],
   "source": [
    "var.test(norm3, norm4)"
   ]
  },
  {
   "cell_type": "code",
   "execution_count": 111,
   "metadata": {},
   "outputs": [
    {
     "data": {
      "text/html": [
       "<table>\n",
       "<caption>A data.frame: 400 × 2</caption>\n",
       "<thead>\n",
       "\t<tr><th scope=col>observations</th><th scope=col>groups</th></tr>\n",
       "\t<tr><th scope=col>&lt;dbl&gt;</th><th scope=col>&lt;fct&gt;</th></tr>\n",
       "</thead>\n",
       "<tbody>\n",
       "\t<tr><td>-1.16067686</td><td>1</td></tr>\n",
       "\t<tr><td>-1.83353825</td><td>1</td></tr>\n",
       "\t<tr><td> 0.94318532</td><td>1</td></tr>\n",
       "\t<tr><td> 0.49846714</td><td>1</td></tr>\n",
       "\t<tr><td>-0.47101912</td><td>1</td></tr>\n",
       "\t<tr><td> 0.32702975</td><td>1</td></tr>\n",
       "\t<tr><td> 0.73128619</td><td>1</td></tr>\n",
       "\t<tr><td>-1.05299991</td><td>1</td></tr>\n",
       "\t<tr><td>-0.78288834</td><td>1</td></tr>\n",
       "\t<tr><td>-1.51580599</td><td>1</td></tr>\n",
       "\t<tr><td>-0.05453851</td><td>1</td></tr>\n",
       "\t<tr><td>-0.77302886</td><td>1</td></tr>\n",
       "\t<tr><td>-1.82286761</td><td>1</td></tr>\n",
       "\t<tr><td> 1.49579833</td><td>1</td></tr>\n",
       "\t<tr><td> 0.28931872</td><td>1</td></tr>\n",
       "\t<tr><td> 0.45224876</td><td>1</td></tr>\n",
       "\t<tr><td> 1.93676289</td><td>1</td></tr>\n",
       "\t<tr><td> 0.40320786</td><td>1</td></tr>\n",
       "\t<tr><td>-0.19446408</td><td>1</td></tr>\n",
       "\t<tr><td> 1.28961362</td><td>1</td></tr>\n",
       "\t<tr><td>-0.06252897</td><td>1</td></tr>\n",
       "\t<tr><td>-0.07457262</td><td>1</td></tr>\n",
       "\t<tr><td> 1.07513104</td><td>1</td></tr>\n",
       "\t<tr><td> 0.12357515</td><td>1</td></tr>\n",
       "\t<tr><td>-0.17035789</td><td>1</td></tr>\n",
       "\t<tr><td>-0.78374247</td><td>1</td></tr>\n",
       "\t<tr><td> 1.28325762</td><td>1</td></tr>\n",
       "\t<tr><td>-0.35248794</td><td>1</td></tr>\n",
       "\t<tr><td> 0.78384705</td><td>1</td></tr>\n",
       "\t<tr><td>-0.15156159</td><td>1</td></tr>\n",
       "\t<tr><td>⋮</td><td>⋮</td></tr>\n",
       "\t<tr><td> -1.6021713</td><td>4</td></tr>\n",
       "\t<tr><td> -5.0621819</td><td>4</td></tr>\n",
       "\t<tr><td> -6.3300653</td><td>4</td></tr>\n",
       "\t<tr><td> -4.7385396</td><td>4</td></tr>\n",
       "\t<tr><td> -0.8240665</td><td>4</td></tr>\n",
       "\t<tr><td> -7.7868259</td><td>4</td></tr>\n",
       "\t<tr><td>  1.7841440</td><td>4</td></tr>\n",
       "\t<tr><td>  3.9725341</td><td>4</td></tr>\n",
       "\t<tr><td>  1.7204556</td><td>4</td></tr>\n",
       "\t<tr><td>-10.8861399</td><td>4</td></tr>\n",
       "\t<tr><td>  4.7855627</td><td>4</td></tr>\n",
       "\t<tr><td>  0.2993733</td><td>4</td></tr>\n",
       "\t<tr><td>-14.2247182</td><td>4</td></tr>\n",
       "\t<tr><td> -1.7265368</td><td>4</td></tr>\n",
       "\t<tr><td> -3.3891561</td><td>4</td></tr>\n",
       "\t<tr><td>  0.6406818</td><td>4</td></tr>\n",
       "\t<tr><td>  6.6028103</td><td>4</td></tr>\n",
       "\t<tr><td>  7.6951677</td><td>4</td></tr>\n",
       "\t<tr><td>  5.3746895</td><td>4</td></tr>\n",
       "\t<tr><td>  7.9384569</td><td>4</td></tr>\n",
       "\t<tr><td> -3.6391118</td><td>4</td></tr>\n",
       "\t<tr><td> -8.2314830</td><td>4</td></tr>\n",
       "\t<tr><td> -6.8569407</td><td>4</td></tr>\n",
       "\t<tr><td> -5.7237624</td><td>4</td></tr>\n",
       "\t<tr><td> -7.5077029</td><td>4</td></tr>\n",
       "\t<tr><td>  4.0938750</td><td>4</td></tr>\n",
       "\t<tr><td> -6.1393115</td><td>4</td></tr>\n",
       "\t<tr><td> -2.5895427</td><td>4</td></tr>\n",
       "\t<tr><td> -7.1922721</td><td>4</td></tr>\n",
       "\t<tr><td> -0.9050605</td><td>4</td></tr>\n",
       "</tbody>\n",
       "</table>\n"
      ],
      "text/latex": [
       "A data.frame: 400 × 2\n",
       "\\begin{tabular}{ll}\n",
       " observations & groups\\\\\n",
       " <dbl> & <fct>\\\\\n",
       "\\hline\n",
       "\t -1.16067686 & 1\\\\\n",
       "\t -1.83353825 & 1\\\\\n",
       "\t  0.94318532 & 1\\\\\n",
       "\t  0.49846714 & 1\\\\\n",
       "\t -0.47101912 & 1\\\\\n",
       "\t  0.32702975 & 1\\\\\n",
       "\t  0.73128619 & 1\\\\\n",
       "\t -1.05299991 & 1\\\\\n",
       "\t -0.78288834 & 1\\\\\n",
       "\t -1.51580599 & 1\\\\\n",
       "\t -0.05453851 & 1\\\\\n",
       "\t -0.77302886 & 1\\\\\n",
       "\t -1.82286761 & 1\\\\\n",
       "\t  1.49579833 & 1\\\\\n",
       "\t  0.28931872 & 1\\\\\n",
       "\t  0.45224876 & 1\\\\\n",
       "\t  1.93676289 & 1\\\\\n",
       "\t  0.40320786 & 1\\\\\n",
       "\t -0.19446408 & 1\\\\\n",
       "\t  1.28961362 & 1\\\\\n",
       "\t -0.06252897 & 1\\\\\n",
       "\t -0.07457262 & 1\\\\\n",
       "\t  1.07513104 & 1\\\\\n",
       "\t  0.12357515 & 1\\\\\n",
       "\t -0.17035789 & 1\\\\\n",
       "\t -0.78374247 & 1\\\\\n",
       "\t  1.28325762 & 1\\\\\n",
       "\t -0.35248794 & 1\\\\\n",
       "\t  0.78384705 & 1\\\\\n",
       "\t -0.15156159 & 1\\\\\n",
       "\t ⋮ & ⋮\\\\\n",
       "\t  -1.6021713 & 4\\\\\n",
       "\t  -5.0621819 & 4\\\\\n",
       "\t  -6.3300653 & 4\\\\\n",
       "\t  -4.7385396 & 4\\\\\n",
       "\t  -0.8240665 & 4\\\\\n",
       "\t  -7.7868259 & 4\\\\\n",
       "\t   1.7841440 & 4\\\\\n",
       "\t   3.9725341 & 4\\\\\n",
       "\t   1.7204556 & 4\\\\\n",
       "\t -10.8861399 & 4\\\\\n",
       "\t   4.7855627 & 4\\\\\n",
       "\t   0.2993733 & 4\\\\\n",
       "\t -14.2247182 & 4\\\\\n",
       "\t  -1.7265368 & 4\\\\\n",
       "\t  -3.3891561 & 4\\\\\n",
       "\t   0.6406818 & 4\\\\\n",
       "\t   6.6028103 & 4\\\\\n",
       "\t   7.6951677 & 4\\\\\n",
       "\t   5.3746895 & 4\\\\\n",
       "\t   7.9384569 & 4\\\\\n",
       "\t  -3.6391118 & 4\\\\\n",
       "\t  -8.2314830 & 4\\\\\n",
       "\t  -6.8569407 & 4\\\\\n",
       "\t  -5.7237624 & 4\\\\\n",
       "\t  -7.5077029 & 4\\\\\n",
       "\t   4.0938750 & 4\\\\\n",
       "\t  -6.1393115 & 4\\\\\n",
       "\t  -2.5895427 & 4\\\\\n",
       "\t  -7.1922721 & 4\\\\\n",
       "\t  -0.9050605 & 4\\\\\n",
       "\\end{tabular}\n"
      ],
      "text/markdown": [
       "\n",
       "A data.frame: 400 × 2\n",
       "\n",
       "| observations &lt;dbl&gt; | groups &lt;fct&gt; |\n",
       "|---|---|\n",
       "| -1.16067686 | 1 |\n",
       "| -1.83353825 | 1 |\n",
       "|  0.94318532 | 1 |\n",
       "|  0.49846714 | 1 |\n",
       "| -0.47101912 | 1 |\n",
       "|  0.32702975 | 1 |\n",
       "|  0.73128619 | 1 |\n",
       "| -1.05299991 | 1 |\n",
       "| -0.78288834 | 1 |\n",
       "| -1.51580599 | 1 |\n",
       "| -0.05453851 | 1 |\n",
       "| -0.77302886 | 1 |\n",
       "| -1.82286761 | 1 |\n",
       "|  1.49579833 | 1 |\n",
       "|  0.28931872 | 1 |\n",
       "|  0.45224876 | 1 |\n",
       "|  1.93676289 | 1 |\n",
       "|  0.40320786 | 1 |\n",
       "| -0.19446408 | 1 |\n",
       "|  1.28961362 | 1 |\n",
       "| -0.06252897 | 1 |\n",
       "| -0.07457262 | 1 |\n",
       "|  1.07513104 | 1 |\n",
       "|  0.12357515 | 1 |\n",
       "| -0.17035789 | 1 |\n",
       "| -0.78374247 | 1 |\n",
       "|  1.28325762 | 1 |\n",
       "| -0.35248794 | 1 |\n",
       "|  0.78384705 | 1 |\n",
       "| -0.15156159 | 1 |\n",
       "| ⋮ | ⋮ |\n",
       "|  -1.6021713 | 4 |\n",
       "|  -5.0621819 | 4 |\n",
       "|  -6.3300653 | 4 |\n",
       "|  -4.7385396 | 4 |\n",
       "|  -0.8240665 | 4 |\n",
       "|  -7.7868259 | 4 |\n",
       "|   1.7841440 | 4 |\n",
       "|   3.9725341 | 4 |\n",
       "|   1.7204556 | 4 |\n",
       "| -10.8861399 | 4 |\n",
       "|   4.7855627 | 4 |\n",
       "|   0.2993733 | 4 |\n",
       "| -14.2247182 | 4 |\n",
       "|  -1.7265368 | 4 |\n",
       "|  -3.3891561 | 4 |\n",
       "|   0.6406818 | 4 |\n",
       "|   6.6028103 | 4 |\n",
       "|   7.6951677 | 4 |\n",
       "|   5.3746895 | 4 |\n",
       "|   7.9384569 | 4 |\n",
       "|  -3.6391118 | 4 |\n",
       "|  -8.2314830 | 4 |\n",
       "|  -6.8569407 | 4 |\n",
       "|  -5.7237624 | 4 |\n",
       "|  -7.5077029 | 4 |\n",
       "|   4.0938750 | 4 |\n",
       "|  -6.1393115 | 4 |\n",
       "|  -2.5895427 | 4 |\n",
       "|  -7.1922721 | 4 |\n",
       "|  -0.9050605 | 4 |\n",
       "\n"
      ],
      "text/plain": [
       "    observations groups\n",
       "1   -1.16067686  1     \n",
       "2   -1.83353825  1     \n",
       "3    0.94318532  1     \n",
       "4    0.49846714  1     \n",
       "5   -0.47101912  1     \n",
       "6    0.32702975  1     \n",
       "7    0.73128619  1     \n",
       "8   -1.05299991  1     \n",
       "9   -0.78288834  1     \n",
       "10  -1.51580599  1     \n",
       "11  -0.05453851  1     \n",
       "12  -0.77302886  1     \n",
       "13  -1.82286761  1     \n",
       "14   1.49579833  1     \n",
       "15   0.28931872  1     \n",
       "16   0.45224876  1     \n",
       "17   1.93676289  1     \n",
       "18   0.40320786  1     \n",
       "19  -0.19446408  1     \n",
       "20   1.28961362  1     \n",
       "21  -0.06252897  1     \n",
       "22  -0.07457262  1     \n",
       "23   1.07513104  1     \n",
       "24   0.12357515  1     \n",
       "25  -0.17035789  1     \n",
       "26  -0.78374247  1     \n",
       "27   1.28325762  1     \n",
       "28  -0.35248794  1     \n",
       "29   0.78384705  1     \n",
       "30  -0.15156159  1     \n",
       "⋮   ⋮            ⋮     \n",
       "371  -1.6021713  4     \n",
       "372  -5.0621819  4     \n",
       "373  -6.3300653  4     \n",
       "374  -4.7385396  4     \n",
       "375  -0.8240665  4     \n",
       "376  -7.7868259  4     \n",
       "377   1.7841440  4     \n",
       "378   3.9725341  4     \n",
       "379   1.7204556  4     \n",
       "380 -10.8861399  4     \n",
       "381   4.7855627  4     \n",
       "382   0.2993733  4     \n",
       "383 -14.2247182  4     \n",
       "384  -1.7265368  4     \n",
       "385  -3.3891561  4     \n",
       "386   0.6406818  4     \n",
       "387   6.6028103  4     \n",
       "388   7.6951677  4     \n",
       "389   5.3746895  4     \n",
       "390   7.9384569  4     \n",
       "391  -3.6391118  4     \n",
       "392  -8.2314830  4     \n",
       "393  -6.8569407  4     \n",
       "394  -5.7237624  4     \n",
       "395  -7.5077029  4     \n",
       "396   4.0938750  4     \n",
       "397  -6.1393115  4     \n",
       "398  -2.5895427  4     \n",
       "399  -7.1922721  4     \n",
       "400  -0.9050605  4     "
      ]
     },
     "metadata": {},
     "output_type": "display_data"
    }
   ],
   "source": [
    "df = data.frame('observations' = c(norm1, norm2, norm3, norm4), \n",
    "                'groups' = factor(c(rep(1, 100), rep(2, 100), rep(3, 100), rep(4, 100))))\n",
    "df"
   ]
  },
  {
   "cell_type": "code",
   "execution_count": 112,
   "metadata": {},
   "outputs": [
    {
     "data": {
      "text/html": [
       "<table>\n",
       "<caption>A anova: 2 × 3</caption>\n",
       "<thead>\n",
       "\t<tr><th></th><th scope=col>Df</th><th scope=col>F value</th><th scope=col>Pr(&gt;F)</th></tr>\n",
       "\t<tr><th></th><th scope=col>&lt;int&gt;</th><th scope=col>&lt;dbl&gt;</th><th scope=col>&lt;dbl&gt;</th></tr>\n",
       "</thead>\n",
       "<tbody>\n",
       "\t<tr><th scope=row>group</th><td>  3</td><td>83.19872</td><td>9.297132e-42</td></tr>\n",
       "\t<tr><th scope=row> </th><td>396</td><td>      NA</td><td>          NA</td></tr>\n",
       "</tbody>\n",
       "</table>\n"
      ],
      "text/latex": [
       "A anova: 2 × 3\n",
       "\\begin{tabular}{r|lll}\n",
       "  & Df & F value & Pr(>F)\\\\\n",
       "  & <int> & <dbl> & <dbl>\\\\\n",
       "\\hline\n",
       "\tgroup &   3 & 83.19872 & 9.297132e-42\\\\\n",
       "\t  & 396 &       NA &           NA\\\\\n",
       "\\end{tabular}\n"
      ],
      "text/markdown": [
       "\n",
       "A anova: 2 × 3\n",
       "\n",
       "| <!--/--> | Df &lt;int&gt; | F value &lt;dbl&gt; | Pr(&gt;F) &lt;dbl&gt; |\n",
       "|---|---|---|---|\n",
       "| group |   3 | 83.19872 | 9.297132e-42 |\n",
       "| <!----> | 396 |       NA |           NA |\n",
       "\n"
      ],
      "text/plain": [
       "      Df  F value  Pr(>F)      \n",
       "group   3 83.19872 9.297132e-42\n",
       "      396       NA           NA"
      ]
     },
     "metadata": {},
     "output_type": "display_data"
    }
   ],
   "source": [
    "leveneTest(observations ~ groups, data = df)"
   ]
  },
  {
   "cell_type": "code",
   "execution_count": 109,
   "metadata": {},
   "outputs": [
    {
     "data": {
      "text/plain": [
       "\n",
       "\tBartlett test of homogeneity of variances\n",
       "\n",
       "data:  observations by groups\n",
       "Bartlett's K-squared = 375.74, df = 3, p-value < 2.2e-16\n"
      ]
     },
     "metadata": {},
     "output_type": "display_data"
    }
   ],
   "source": [
    "bartlett.test(observations ~ groups, data = df)"
   ]
  },
  {
   "cell_type": "code",
   "execution_count": 110,
   "metadata": {},
   "outputs": [
    {
     "data": {
      "text/plain": [
       "\n",
       "\tFligner-Killeen test of homogeneity of variances\n",
       "\n",
       "data:  observations by groups\n",
       "Fligner-Killeen:med chi-squared = 149.89, df = 3, p-value < 2.2e-16\n"
      ]
     },
     "metadata": {},
     "output_type": "display_data"
    }
   ],
   "source": [
    "fligner.test(observations ~ groups, data = df)"
   ]
  },
  {
   "cell_type": "markdown",
   "metadata": {},
   "source": [
    "По тесту Фишера получаем, что в первых двух выборках из нормального распределения дисперсии совпадают, а в других парах выборок не совпадают. По остальным тестам получаем несовпадение дисперсий. Все верно."
   ]
  }
 ],
 "metadata": {
  "kernelspec": {
   "display_name": "R",
   "language": "R",
   "name": "ir"
  },
  "language_info": {
   "codemirror_mode": "r",
   "file_extension": ".r",
   "mimetype": "text/x-r-source",
   "name": "R",
   "pygments_lexer": "r",
   "version": "4.0.0"
  }
 },
 "nbformat": 4,
 "nbformat_minor": 2
}
